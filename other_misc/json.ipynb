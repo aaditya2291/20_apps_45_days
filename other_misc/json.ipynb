{
 "cells": [
  {
   "cell_type": "code",
   "execution_count": 29,
   "metadata": {},
   "outputs": [],
   "source": [
    "import pandas as pd \n",
    "import numpy as np "
   ]
  },
  {
   "cell_type": "code",
   "execution_count": 30,
   "metadata": {},
   "outputs": [
    {
     "data": {
      "text/plain": [
       "'c:\\\\Users\\\\Aditya\\\\Downloads\\\\weather_alert.json'"
      ]
     },
     "execution_count": 30,
     "metadata": {},
     "output_type": "execute_result"
    }
   ],
   "source": [
    "wthr = r\"c:\\Users\\Aditya\\Downloads\\weather_alert.json\"\n",
    "wthr"
   ]
  },
  {
   "cell_type": "code",
   "execution_count": 5,
   "metadata": {},
   "outputs": [
    {
     "data": {
      "text/html": [
       "<div>\n",
       "<style scoped>\n",
       "    .dataframe tbody tr th:only-of-type {\n",
       "        vertical-align: middle;\n",
       "    }\n",
       "\n",
       "    .dataframe tbody tr th {\n",
       "        vertical-align: top;\n",
       "    }\n",
       "\n",
       "    .dataframe thead th {\n",
       "        text-align: right;\n",
       "    }\n",
       "</style>\n",
       "<table border=\"1\" class=\"dataframe\">\n",
       "  <thead>\n",
       "    <tr style=\"text-align: right;\">\n",
       "      <th></th>\n",
       "      <th>_id</th>\n",
       "      <th>author</th>\n",
       "      <th>quote</th>\n",
       "      <th>source</th>\n",
       "    </tr>\n",
       "  </thead>\n",
       "  <tbody>\n",
       "    <tr>\n",
       "      <th>0</th>\n",
       "      <td>1</td>\n",
       "      <td>Albert Einstein</td>\n",
       "      <td>Everything should be as simple as it can be, b...</td>\n",
       "      <td>NaN</td>\n",
       "    </tr>\n",
       "    <tr>\n",
       "      <th>1</th>\n",
       "      <td>2</td>\n",
       "      <td>Albert Einstein</td>\n",
       "      <td>Logic will get you from A to Z; imagination wi...</td>\n",
       "      <td>NaN</td>\n",
       "    </tr>\n",
       "    <tr>\n",
       "      <th>2</th>\n",
       "      <td>3</td>\n",
       "      <td>Albert Einstein</td>\n",
       "      <td>Try not to become a man of success. Rather bec...</td>\n",
       "      <td>NaN</td>\n",
       "    </tr>\n",
       "    <tr>\n",
       "      <th>3</th>\n",
       "      <td>4</td>\n",
       "      <td>Albert Einstein</td>\n",
       "      <td>It is not that I'm so smart. But I stay with t...</td>\n",
       "      <td>NaN</td>\n",
       "    </tr>\n",
       "  </tbody>\n",
       "</table>\n",
       "</div>"
      ],
      "text/plain": [
       "   _id           author                                              quote  \\\n",
       "0    1  Albert Einstein  Everything should be as simple as it can be, b...   \n",
       "1    2  Albert Einstein  Logic will get you from A to Z; imagination wi...   \n",
       "2    3  Albert Einstein  Try not to become a man of success. Rather bec...   \n",
       "3    4  Albert Einstein  It is not that I'm so smart. But I stay with t...   \n",
       "\n",
       "   source  \n",
       "0     NaN  \n",
       "1     NaN  \n",
       "2     NaN  \n",
       "3     NaN  "
      ]
     },
     "execution_count": 5,
     "metadata": {},
     "output_type": "execute_result"
    }
   ],
   "source": [
    "enstn = pd.read_json(r\"c:\\Users\\Aditya\\Downloads\\einstein_quotes.json\")\n",
    "enstn"
   ]
  },
  {
   "cell_type": "code",
   "execution_count": 8,
   "metadata": {},
   "outputs": [],
   "source": [
    "import json"
   ]
  },
  {
   "cell_type": "code",
   "execution_count": 9,
   "metadata": {},
   "outputs": [
    {
     "data": {
      "text/plain": [
       "[{'_id': 1,\n",
       "  'author': 'Albert Einstein',\n",
       "  'quote': 'Everything should be as simple as it can be, but not simpler!',\n",
       "  'source': None},\n",
       " {'_id': 2,\n",
       "  'author': 'Albert Einstein',\n",
       "  'quote': 'Logic will get you from A to Z; imagination will get you everywhere.',\n",
       "  'source': None},\n",
       " {'_id': 3,\n",
       "  'author': 'Albert Einstein',\n",
       "  'quote': 'Try not to become a man of success. Rather become a man of value.',\n",
       "  'source': None},\n",
       " {'_id': 4,\n",
       "  'author': 'Albert Einstein',\n",
       "  'quote': \"It is not that I'm so smart. But I stay with the questions much longer.\",\n",
       "  'source': None}]"
      ]
     },
     "execution_count": 9,
     "metadata": {},
     "output_type": "execute_result"
    }
   ],
   "source": [
    "with open(r\"C:\\Users\\Aditya\\Downloads\\einstein_quotes (1).json\") as file:\n",
    "    data = json.load(file)\n",
    "data"
   ]
  },
  {
   "cell_type": "code",
   "execution_count": 23,
   "metadata": {},
   "outputs": [
    {
     "data": {
      "text/plain": [
       "[{'_id': 1,\n",
       "  'author': 'Albert Einstein',\n",
       "  'quote': 'Everything should be as simple as it can be, but not simpler!',\n",
       "  'source': None},\n",
       " {'_id': 2,\n",
       "  'author': 'Albert Einstein',\n",
       "  'quote': 'Logic will get you from A to Z; imagination will get you everywhere.',\n",
       "  'source': None},\n",
       " {'_id': 3,\n",
       "  'author': 'Albert Einstein',\n",
       "  'quote': 'Try not to become a man of success. Rather become a man of value.',\n",
       "  'source': None},\n",
       " {'_id': 4,\n",
       "  'author': 'Albert Einstein',\n",
       "  'quote': \"It is not that I'm so smart. But I stay with the questions much longer.\",\n",
       "  'source': None}]"
      ]
     },
     "execution_count": 23,
     "metadata": {},
     "output_type": "execute_result"
    }
   ],
   "source": [
    "with open(\"C:/Users/Aditya/Downloads/einstein_quotes (1).json\") as file:\n",
    "    data = json.load(file)\n",
    "data"
   ]
  },
  {
   "cell_type": "code",
   "execution_count": 24,
   "metadata": {},
   "outputs": [
    {
     "data": {
      "text/plain": [
       "'Albert Einstein'"
      ]
     },
     "execution_count": 24,
     "metadata": {},
     "output_type": "execute_result"
    }
   ],
   "source": [
    "data[1]['author']"
   ]
  },
  {
   "cell_type": "code",
   "execution_count": 32,
   "metadata": {},
   "outputs": [
    {
     "data": {
      "text/plain": [
       "'c:\\\\Users\\\\Aditya\\\\Downloads\\\\weather_alert.json'"
      ]
     },
     "execution_count": 32,
     "metadata": {},
     "output_type": "execute_result"
    }
   ],
   "source": [
    "wthr"
   ]
  },
  {
   "cell_type": "code",
   "execution_count": 33,
   "metadata": {},
   "outputs": [
    {
     "data": {
      "text/plain": [
       "{'alerts': {'alert': [{'headline': 'Flood Warning issued January 05 at 9:47PM EST until January 07 at 6:15AM EST by NWS',\n",
       "    'msgtype': 'Alert',\n",
       "    'severity': 'Moderate',\n",
       "    'urgency': 'Expected',\n",
       "    'areas': 'Calhoun; Lexington; Richland',\n",
       "    'category': 'Met',\n",
       "    'certainty': 'Likely',\n",
       "    'event': 'Flood Warning',\n",
       "    'note': 'Alert for Calhoun; Lexington; Richland (South Carolina) Issued by the National Weather Service',\n",
       "    'effective': '2021-01-05T21:47:00-05:00',\n",
       "    'expires': '2021-01-07T06:15:00-05:00',\n",
       "    'desc': '...The Flood Warning continues for the following rivers in South\\nCarolina...\\nCongaree River At Carolina Eastman affecting Richland, Calhoun\\nand Lexington Counties.\\nCongaree River At Congaree National Park-Gadsden affecting\\nCalhoun and Richland Counties.\\nNorth Fork Edisto River At Orangeburg affecting Orangeburg County.\\n...The Flood Warning is now in effect until Thursday morning...\\nThe Flood Warning continues for\\nthe Congaree River At Carolina Eastman.\\n* Until Thursday morning.\\n* At 9:28 PM EST Tuesday the stage was 115.6 feet.\\n* Flood stage is 115.0 feet.\\n* Minor flooding is occurring and minor flooding is forecast.\\n* Recent Activity...The maximum river stage in the 24 hours ending\\nat 9:28 PM EST Tuesday was 118.2 feet.\\n* Forecast...The river will rise to 115.7 feet just after midnight\\ntonight. It will then fall below flood stage tomorrow morning to\\n114.2 feet and begin rising again tomorrow evening. It will rise\\nto 114.3 feet early Thursday morning. It will then fall again and\\nremain below flood stage.\\n* Impact...At 115.0 feet, Flooding occurs in low lying areas of the\\nCarolina Eastman Facility and at the Congaree National Park.\\n* Flood History...This crest compares to a previous crest of 116.3\\nfeet on 12/03/2020.\\n&&',\n",
       "    'instruction': 'A Flood Warning means that flooding is imminent or occurring. All\\ninterested parties should take necessary precautions immediately.\\nMotorists should not attempt to drive around barricades or drive\\ncars through flooded areas.\\nCaution is urged when walking near riverbanks.\\nAdditional information is available at www.weather.gov.\\nThe next statement will be issued Wednesday morning at 1000 AM EST.'},\n",
       "   {'headline': 'Flood Warning issued January 05 at 9:47PM EST until January 09 at 4:00AM EST by NWS',\n",
       "    'msgtype': 'Alert',\n",
       "    'severity': 'Moderate',\n",
       "    'urgency': 'Expected',\n",
       "    'areas': 'Calhoun; Richland',\n",
       "    'category': 'Met',\n",
       "    'certainty': 'Likely',\n",
       "    'event': 'Flood Warning',\n",
       "    'note': 'Alert for Calhoun; Richland (South Carolina) Issued by the National Weather Service',\n",
       "    'effective': '2021-01-05T21:47:00-05:00',\n",
       "    'expires': '2021-01-09T04:00:00-05:00',\n",
       "    'desc': '...The Flood Warning continues for the following rivers in South\\nCarolina...\\nCongaree River At Carolina Eastman affecting Richland, Calhoun\\nand Lexington Counties.\\nCongaree River At Congaree National Park-Gadsden affecting\\nCalhoun and Richland Counties.\\nNorth Fork Edisto River At Orangeburg affecting Orangeburg County.\\n...The Flood Warning is now in effect until early Saturday morning...\\nThe Flood Warning continues for\\nthe Congaree River At Congaree National Park-Gadsden.\\n* Until late Friday night.\\n* At 9:00 PM EST Tuesday the stage was 16.5 feet.\\n* Flood stage is 15.0 feet.\\n* Minor flooding is occurring and minor flooding is forecast.\\n* Recent Activity...The maximum river stage in the 24 hours ending\\nat 9:00 PM EST Tuesday was 17.2 feet.\\n* Forecast...The river is expected to fall below flood stage early\\nFriday morning and continue falling to 12.4 feet Sunday evening.\\n* Impact...At 15.0 feet, Flooding begins in the Congaree National\\nPark. This will begin to produce flooding of portions of the lower\\nboardwalk.\\n* Impact...At 17.0 feet, The access road to the Sandy Run\\nsubdivision becomes flooded. The lower boardwalk in the Congaree\\nNational Park becomes flooded by Cedar Creek.\\n* Impact...At 18.0 feet, Several homes in the Sandy Run subdivision\\nalong the river become flooded. At 18 feet the river covers the\\nWeston Lake overlook in the Congaree National Park. Between 18 and\\n18.5 feet the river begins to cover sections of the elevated\\nboardwalk.\\n* Flood History...This crest compares to a previous crest of 16.3\\nfeet on 12/03/2020.\\n&&',\n",
       "    'instruction': 'A Flood Warning means that flooding is imminent or occurring. All\\ninterested parties should take necessary precautions immediately.\\nMotorists should not attempt to drive around barricades or drive\\ncars through flooded areas.\\nCaution is urged when walking near riverbanks.\\nAdditional information is available at www.weather.gov.\\nThe next statement will be issued Wednesday morning at 1000 AM EST.'}]}}"
      ]
     },
     "execution_count": 33,
     "metadata": {},
     "output_type": "execute_result"
    }
   ],
   "source": [
    "with open(wthr) as file:\n",
    "    data = json.load(file)\n",
    "data "
   ]
  },
  {
   "cell_type": "code",
   "execution_count": 36,
   "metadata": {},
   "outputs": [],
   "source": [
    "with open(wthr,'w') as data_ex:\n",
    "    json.dump(data,data_ex,indent=4)\n"
   ]
  },
  {
   "cell_type": "code",
   "execution_count": 38,
   "metadata": {},
   "outputs": [
    {
     "data": {
      "text/plain": [
       "<_io.TextIOWrapper name='c:\\\\Users\\\\Aditya\\\\Downloads\\\\weather_alert.json' mode='w' encoding='cp1252'>"
      ]
     },
     "execution_count": 38,
     "metadata": {},
     "output_type": "execute_result"
    }
   ],
   "source": [
    "data_ex"
   ]
  },
  {
   "cell_type": "code",
   "execution_count": null,
   "metadata": {},
   "outputs": [],
   "source": []
  }
 ],
 "metadata": {
  "kernelspec": {
   "display_name": ".venv",
   "language": "python",
   "name": "python3"
  },
  "language_info": {
   "codemirror_mode": {
    "name": "ipython",
    "version": 3
   },
   "file_extension": ".py",
   "mimetype": "text/x-python",
   "name": "python",
   "nbconvert_exporter": "python",
   "pygments_lexer": "ipython3",
   "version": "3.10.11"
  }
 },
 "nbformat": 4,
 "nbformat_minor": 2
}

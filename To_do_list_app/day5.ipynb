{
 "cells": [
  {
   "cell_type": "code",
   "execution_count": null,
   "metadata": {},
   "outputs": [],
   "source": []
  },
  {
   "cell_type": "code",
   "execution_count": null,
   "metadata": {},
   "outputs": [],
   "source": [
    "\n",
    "todos = []\n",
    "\n",
    "while True:\n",
    "\n",
    "    user_action = input(\"type add or show or edit or exit \")\n",
    "    user_action = user_action.strip()\n",
    "    match user_action:\n",
    "        case \"add\":\n",
    "            todo = input(\"enter todo: \")\n",
    "            todos.append(todo)\n",
    "            print(\"Next...\", \"\\n\")\n",
    "        case \"show\":\n",
    "            for index, element in enumerate(todos): #enumerate method\n",
    "                print(str(index+1)+'. '+element, end=\"\\n\") \n",
    "            print(\"\\n\")\n",
    "        case \"edit\":\n",
    "            number = int(\n",
    "                input(\"enter the index number of the element you want to change\")\n",
    "            )\n",
    "            number = number - 1\n",
    "            new_todo = input(\"enter the new todo\")\n",
    "            todos[number] = new_todo\n",
    "        case \"exit\":\n",
    "            break\n",
    "        case _:\n",
    "            print(\n",
    "                \"\"\"enter only these options:\n",
    "                  1) add \n",
    "                  2) show\n",
    "                  3) exit \"\"\"\n",
    "            )\n"
   ]
  },
  {
   "cell_type": "code",
   "execution_count": null,
   "metadata": {},
   "outputs": [],
   "source": [
    "#code experiment"
   ]
  },
  {
   "cell_type": "code",
   "execution_count": 5,
   "metadata": {},
   "outputs": [],
   "source": [
    "b= enumerate(\"hello\")\n",
    "ls = list(b)"
   ]
  },
  {
   "cell_type": "code",
   "execution_count": 6,
   "metadata": {},
   "outputs": [
    {
     "name": "stdout",
     "output_type": "stream",
     "text": [
      "0 h\n",
      "1 e\n",
      "2 l\n",
      "3 l\n",
      "4 o\n"
     ]
    }
   ],
   "source": [
    "for i ,ch in ls:\n",
    "    print(i,ch)"
   ]
  },
  {
   "cell_type": "code",
   "execution_count": 10,
   "metadata": {},
   "outputs": [
    {
     "name": "stdout",
     "output_type": "stream",
     "text": [
      "0.) Ben\n",
      "1.) Cathy\n",
      "2.) John\n",
      "3.) Seth\n"
     ]
    }
   ],
   "source": [
    "waiting= ['ben','cathy','john','seth']\n",
    "waiting.sort()\n",
    "for ind,i in enumerate(waiting):\n",
    "    print(f\"{ind}.) {i.title()}\")"
   ]
  },
  {
   "cell_type": "code",
   "execution_count": null,
   "metadata": {},
   "outputs": [],
   "source": []
  },
  {
   "cell_type": "code",
   "execution_count": null,
   "metadata": {},
   "outputs": [],
   "source": []
  },
  {
   "cell_type": "code",
   "execution_count": null,
   "metadata": {},
   "outputs": [],
   "source": []
  },
  {
   "cell_type": "code",
   "execution_count": null,
   "metadata": {},
   "outputs": [],
   "source": []
  }
 ],
 "metadata": {
  "kernelspec": {
   "display_name": ".venv",
   "language": "python",
   "name": "python3"
  },
  "language_info": {
   "codemirror_mode": {
    "name": "ipython",
    "version": 3
   },
   "file_extension": ".py",
   "mimetype": "text/x-python",
   "name": "python",
   "nbconvert_exporter": "python",
   "pygments_lexer": "ipython3",
   "version": "3.10.11"
  }
 },
 "nbformat": 4,
 "nbformat_minor": 2
}

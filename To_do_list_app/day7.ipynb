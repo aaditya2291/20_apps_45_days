{
 "cells": [
  {
   "cell_type": "code",
   "execution_count": null,
   "metadata": {},
   "outputs": [],
   "source": [
    "#improving the program output\n"
   ]
  },
  {
   "cell_type": "code",
   "execution_count": null,
   "metadata": {},
   "outputs": [],
   "source": [
    "while True:\n",
    "\n",
    "    user_action = input(\"type add or show or edit or complete or exit \")\n",
    "    user_action = user_action.strip()\n",
    "    match user_action:\n",
    "        case \"add\":\n",
    "            todo = input(\"enter todo: \") + \"\\n\"\n",
    "            file = open(\n",
    "                \"F:\\\\aditya_git\\\\20_apps_45_days\\\\To_do_list_app\\\\todo.txt\",\n",
    "                \"r\",\n",
    "                encoding=\"utf-8\",\n",
    "            )\n",
    "            todos = file.readlines()\n",
    "            file.close()\n",
    "            todos.append(todo)\n",
    "            file = open(\n",
    "                \"F:\\\\aditya_git\\\\20_apps_45_days\\\\To_do_list_app\\\\todo.txt\",\n",
    "                \"w\",\n",
    "                encoding=\"utf-8\",\n",
    "            )\n",
    "            file.writelines(todos)\n",
    "            print(\"Todo added. Next...\\n\")\n",
    "\n",
    "            print(\"Next...\", \"\\n\")\n",
    "            file.close()\n",
    "        case \"show\":\n",
    "            \n",
    "            file = open(\n",
    "                \"F:\\\\aditya_git\\\\20_apps_45_days\\\\To_do_list_app\\\\todo.txt\",\n",
    "                \"r\",\n",
    "                encoding=\"utf-8\",\n",
    "            )\n",
    "            \n",
    "            todos = file.readlines()\n",
    "            file.close()\n",
    "\n",
    "            new_todos = []\n",
    "            # for item in todos:\n",
    "            #     n_t = item.strip('\\n')\n",
    "            #     new_todos.append(n_t)\n",
    "            new_todos = [i.srtip() for i in todos]\n",
    "            for index, element in enumerate(new_todos):\n",
    "                print(f\"{index+1}) {element}\", end=\"\\n\")\n",
    "            print(\"\\n\")\n",
    "\n",
    "\n",
    "        case \"edit\":\n",
    "            number = int(\n",
    "                input(\"enter the index number of the element you want to change\")\n",
    "            )\n",
    "            number = number - 1\n",
    "            new_todo = input(\"enter the new todo\")\n",
    "            todos[number] = new_todo\n",
    "        case \"complete\":\n",
    "            number = int(input(\"enter the index number you want to remove \"))\n",
    "            todos.pop(number - 1)\n",
    "        case \"exit\":\n",
    "\n",
    "            break\n",
    "        case _:\n",
    "            print(\n",
    "                \"\"\"enter only these options:\n",
    "                  1) add \n",
    "                  2) show\n",
    "                  3) exit \"\"\"\n",
    "            )"
   ]
  },
  {
   "cell_type": "code",
   "execution_count": 1,
   "metadata": {},
   "outputs": [
    {
     "data": {
      "text/plain": [
       "['1-doc.txt', '1-report.txt', '1-pre.txt']"
      ]
     },
     "execution_count": 1,
     "metadata": {},
     "output_type": "execute_result"
    }
   ],
   "source": [
    "files = ['1.doc','1.report','1.pre']\n",
    "\n",
    "nfile = [f.replace('.','-')+'.txt' for f in files]\n",
    "nfile"
   ]
  },
  {
   "cell_type": "code",
   "execution_count": null,
   "metadata": {},
   "outputs": [],
   "source": []
  },
  {
   "cell_type": "code",
   "execution_count": 2,
   "metadata": {},
   "outputs": [
    {
     "name": "stdout",
     "output_type": "stream",
     "text": [
      "Help on built-in function sum in module builtins:\n",
      "\n",
      "sum(iterable, /, start=0)\n",
      "    Return the sum of a 'start' value (default: 0) plus an iterable of numbers\n",
      "    \n",
      "    When the iterable is empty, return the start value.\n",
      "    This function is intended specifically for use with numeric values and may\n",
      "    reject non-numeric types.\n",
      "\n"
     ]
    }
   ],
   "source": [
    "help(sum)"
   ]
  },
  {
   "cell_type": "code",
   "execution_count": 1,
   "metadata": {},
   "outputs": [
    {
     "name": "stdout",
     "output_type": "stream",
     "text": [
      "[1, 9, 25, 49, 81]\n"
     ]
    }
   ],
   "source": [
    "odd = [1,2,3,4,5,6,7,8,9]\n",
    "\n",
    "oddsqr = [x**2 for x in odd if x%2!=0]\n",
    "print(oddsqr)"
   ]
  },
  {
   "cell_type": "code",
   "execution_count": null,
   "metadata": {},
   "outputs": [],
   "source": []
  },
  {
   "cell_type": "code",
   "execution_count": null,
   "metadata": {},
   "outputs": [],
   "source": []
  },
  {
   "cell_type": "code",
   "execution_count": null,
   "metadata": {},
   "outputs": [],
   "source": []
  },
  {
   "cell_type": "code",
   "execution_count": null,
   "metadata": {},
   "outputs": [],
   "source": []
  },
  {
   "cell_type": "code",
   "execution_count": null,
   "metadata": {},
   "outputs": [],
   "source": []
  }
 ],
 "metadata": {
  "kernelspec": {
   "display_name": ".venv",
   "language": "python",
   "name": "python3"
  },
  "language_info": {
   "codemirror_mode": {
    "name": "ipython",
    "version": 3
   },
   "file_extension": ".py",
   "mimetype": "text/x-python",
   "name": "python",
   "nbconvert_exporter": "python",
   "pygments_lexer": "ipython3",
   "version": "3.10.11"
  }
 },
 "nbformat": 4,
 "nbformat_minor": 2
}

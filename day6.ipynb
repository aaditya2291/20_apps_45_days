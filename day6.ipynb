{
 "cells": [
  {
   "cell_type": "code",
   "execution_count": 3,
   "metadata": {},
   "outputs": [],
   "source": [
    "todos = []"
   ]
  },
  {
   "cell_type": "code",
   "execution_count": 4,
   "metadata": {},
   "outputs": [],
   "source": [
    "todo = input()\n",
    "todos.append(todo)\n",
    "file = open(\"F:\\\\aditya_git\\\\20_apps_45_days\\\\To_do_list_app\\\\todo.txt\",\"w\")\n",
    "file.writelines(todos)\n"
   ]
  },
  {
   "cell_type": "code",
   "execution_count": null,
   "metadata": {},
   "outputs": [],
   "source": []
  },
  {
   "cell_type": "code",
   "execution_count": 23,
   "metadata": {},
   "outputs": [],
   "source": [
    "contents = ['1',\n",
    "            '2',\n",
    "            ['3'],\n",
    "            ]\n",
    "files = ['one.txt','two.txt','three.txt']\n"
   ]
  },
  {
   "cell_type": "code",
   "execution_count": 24,
   "metadata": {},
   "outputs": [],
   "source": [
    "for content,file in zip(contents,files):\n",
    "    file = open(f\"F:\\\\aditya_git\\\\20_apps_45_days\\\\To_do_list_app\\\\{file}\",'w',encoding=\"utf-8\",)\n",
    "    file.writelines(content)\n",
    "    file.close()"
   ]
  },
  {
   "cell_type": "code",
   "execution_count": 26,
   "metadata": {},
   "outputs": [],
   "source": [
    "for content,file in zip(contents,files):\n",
    "    file = open(f\"..\\\\To_do_list_app\\\\{file}\",'w',encoding=\"utf-8\",)\n",
    "    file.writelines(content)\n",
    "    file.close()"
   ]
  },
  {
   "cell_type": "code",
   "execution_count": 31,
   "metadata": {},
   "outputs": [],
   "source": [
    "file = open(\"data.txt\", 'w')\n",
    " \n",
    "file.write(\"100.12 \\n\")\n",
    "file.write(\"111.23\")\n",
    " \n",
    "file.close()"
   ]
  },
  {
   "cell_type": "code",
   "execution_count": null,
   "metadata": {},
   "outputs": [],
   "source": []
  },
  {
   "cell_type": "code",
   "execution_count": null,
   "metadata": {},
   "outputs": [],
   "source": []
  }
 ],
 "metadata": {
  "kernelspec": {
   "display_name": ".venv",
   "language": "python",
   "name": "python3"
  },
  "language_info": {
   "codemirror_mode": {
    "name": "ipython",
    "version": 3
   },
   "file_extension": ".py",
   "mimetype": "text/x-python",
   "name": "python",
   "nbconvert_exporter": "python",
   "pygments_lexer": "ipython3",
   "version": "3.10.11"
  }
 },
 "nbformat": 4,
 "nbformat_minor": 2
}
